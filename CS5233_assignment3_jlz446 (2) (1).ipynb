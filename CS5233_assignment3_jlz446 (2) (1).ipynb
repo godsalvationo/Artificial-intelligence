{
  "cells": [
    {
      "cell_type": "markdown",
      "metadata": {
        "id": "9wUL_Fy5qUDI"
      },
      "source": [
        "# UTSA CS 5233: Assignment-3 - Artificial Intelligence\n",
        "\n",
        "**Oguibe God'salvation - jlz446** "
      ]
    },
    {
      "cell_type": "markdown",
      "metadata": {
        "id": "NM8b9KVYsETT"
      },
      "source": [
        "## Learning Objectives\n",
        "\n",
        "Implement 2 different machine learning algorithms\n",
        "*   Stochastic Gradient Descent\n",
        "*   ID3 Decision Tree\n"
      ]
    },
    {
      "cell_type": "markdown",
      "metadata": {
        "id": "LzR4Ic34zJlT"
      },
      "source": [
        "\n",
        "## Description\n",
        "\n",
        "This assignment is focused on **machine learning**, mainly on the implementation of 2 different algorithms - Stochastic Gradient Descent & ID3 decision tree. \n",
        "The assignment is divided into two sections, each for one unique ML algorithm. \n",
        "\n",
        "The base structure and comments are provided on what should be done. You can use some libraries that help support you for the successful completion of the assignment. However, you **CANNOT** use a complete library that contains the implementation of ML algorithms. You can get pieces of code from online, but please cite the source properly.\n"
      ]
    },
    {
      "cell_type": "markdown",
      "metadata": {
        "id": "vnPfmHAOteOI"
      },
      "source": [
        "## Import Libraries\n",
        "\n",
        "Write all the import statements here. This should be for both algorithm implmentations. As mentioned before, you can not use any premade ML libraries."
      ]
    },
    {
      "cell_type": "code",
      "execution_count": 1,
      "metadata": {
        "id": "f9apbZGptej6"
      },
      "outputs": [],
      "source": [
        "# import all required libraries\n",
        "import pandas as pd\n",
        "import numpy as np\n",
        "import matplotlib.pyplot as plt\n",
        "from numpy import dot\n",
        "import math\n",
        "from sklearn.metrics import mean_squared_error\n",
        "from sklearn import preprocessing\n",
        "import sklearn\n",
        "from sklearn.model_selection import train_test_split\n",
        "import copy"
      ]
    },
    {
      "cell_type": "code",
      "source": [
        "from google.colab import drive\n",
        "drive.mount('/content/drive')"
      ],
      "metadata": {
        "colab": {
          "base_uri": "https://localhost:8080/"
        },
        "id": "TjwYqlmm6SED",
        "outputId": "e5ca8d61-9fa8-4b77-8153-25f3794cdb33"
      },
      "execution_count": 2,
      "outputs": [
        {
          "output_type": "stream",
          "name": "stdout",
          "text": [
            "Mounted at /content/drive\n"
          ]
        }
      ]
    },
    {
      "cell_type": "code",
      "source": [
        "# Assume that the data files are in the following folder -- THIS WILL BE USED BY THE TA\n",
        "basePath = \"/content/drive/My Drive/Colab Notebooks/Artificial Intelligence/Data/\"\n"
      ],
      "metadata": {
        "id": "NUozgacT6XOh"
      },
      "execution_count": 3,
      "outputs": []
    },
    {
      "cell_type": "markdown",
      "metadata": {
        "id": "YeYRnesWqvLm"
      },
      "source": [
        "# Stochastic Gradient Descent\n",
        "(60 points)\n",
        "\n",
        "\n",
        "In this section, you will implement the Stochastic Gradient Descent algorithm for a **regression** task.\n",
        "\n",
        "'house_price_dataset.csv' is the data file that will be provided to you for the gradient descent algorithm implementation.\n",
        "\n",
        "The first line contains the attribute names. All the other lines are different example instances to be used for the algorithm. Each column holds values of the attributes, whereas the last column holds the output value for that instance that your model should predict.\n",
        "\n",
        "\n"
      ]
    },
    {
      "cell_type": "code",
      "execution_count": 4,
      "metadata": {
        "id": "MAQYE05KKaZj",
        "colab": {
          "base_uri": "https://localhost:8080/",
          "height": 267
        },
        "outputId": "cba27d0f-462d-4cf4-83f1-fcb026180a99"
      },
      "outputs": [
        {
          "output_type": "execute_result",
          "data": {
            "text/plain": [
              "   X2 house age  X3 distance to the nearest station  \\\n",
              "0      0.201737                            0.535100   \n",
              "1      0.058362                            0.917610   \n",
              "2      0.023025                            0.972905   \n",
              "3      0.022999                            0.971790   \n",
              "4      0.012132                            0.947692   \n",
              "\n",
              "   X4 number of convenience stores  X5 latitude  X6 longitude  \\\n",
              "0                         0.063043     0.157500      0.766225   \n",
              "1                         0.026936     0.074764      0.363757   \n",
              "2                         0.008656     0.043258      0.210416   \n",
              "3                         0.008646     0.043209      0.210175   \n",
              "4                         0.012132     0.060611      0.294916   \n",
              "\n",
              "   Y house price of unit area  \n",
              "0                    0.238933  \n",
              "1                    0.126301  \n",
              "2                    0.081886  \n",
              "3                    0.094761  \n",
              "4                    0.104580  "
            ],
            "text/html": [
              "\n",
              "  <div id=\"df-b70b49c3-5932-4608-8537-2b897b726a66\">\n",
              "    <div class=\"colab-df-container\">\n",
              "      <div>\n",
              "<style scoped>\n",
              "    .dataframe tbody tr th:only-of-type {\n",
              "        vertical-align: middle;\n",
              "    }\n",
              "\n",
              "    .dataframe tbody tr th {\n",
              "        vertical-align: top;\n",
              "    }\n",
              "\n",
              "    .dataframe thead th {\n",
              "        text-align: right;\n",
              "    }\n",
              "</style>\n",
              "<table border=\"1\" class=\"dataframe\">\n",
              "  <thead>\n",
              "    <tr style=\"text-align: right;\">\n",
              "      <th></th>\n",
              "      <th>X2 house age</th>\n",
              "      <th>X3 distance to the nearest station</th>\n",
              "      <th>X4 number of convenience stores</th>\n",
              "      <th>X5 latitude</th>\n",
              "      <th>X6 longitude</th>\n",
              "      <th>Y house price of unit area</th>\n",
              "    </tr>\n",
              "  </thead>\n",
              "  <tbody>\n",
              "    <tr>\n",
              "      <th>0</th>\n",
              "      <td>0.201737</td>\n",
              "      <td>0.535100</td>\n",
              "      <td>0.063043</td>\n",
              "      <td>0.157500</td>\n",
              "      <td>0.766225</td>\n",
              "      <td>0.238933</td>\n",
              "    </tr>\n",
              "    <tr>\n",
              "      <th>1</th>\n",
              "      <td>0.058362</td>\n",
              "      <td>0.917610</td>\n",
              "      <td>0.026936</td>\n",
              "      <td>0.074764</td>\n",
              "      <td>0.363757</td>\n",
              "      <td>0.126301</td>\n",
              "    </tr>\n",
              "    <tr>\n",
              "      <th>2</th>\n",
              "      <td>0.023025</td>\n",
              "      <td>0.972905</td>\n",
              "      <td>0.008656</td>\n",
              "      <td>0.043258</td>\n",
              "      <td>0.210416</td>\n",
              "      <td>0.081886</td>\n",
              "    </tr>\n",
              "    <tr>\n",
              "      <th>3</th>\n",
              "      <td>0.022999</td>\n",
              "      <td>0.971790</td>\n",
              "      <td>0.008646</td>\n",
              "      <td>0.043209</td>\n",
              "      <td>0.210175</td>\n",
              "      <td>0.094761</td>\n",
              "    </tr>\n",
              "    <tr>\n",
              "      <th>4</th>\n",
              "      <td>0.012132</td>\n",
              "      <td>0.947692</td>\n",
              "      <td>0.012132</td>\n",
              "      <td>0.060611</td>\n",
              "      <td>0.294916</td>\n",
              "      <td>0.104580</td>\n",
              "    </tr>\n",
              "  </tbody>\n",
              "</table>\n",
              "</div>\n",
              "      <button class=\"colab-df-convert\" onclick=\"convertToInteractive('df-b70b49c3-5932-4608-8537-2b897b726a66')\"\n",
              "              title=\"Convert this dataframe to an interactive table.\"\n",
              "              style=\"display:none;\">\n",
              "        \n",
              "  <svg xmlns=\"http://www.w3.org/2000/svg\" height=\"24px\"viewBox=\"0 0 24 24\"\n",
              "       width=\"24px\">\n",
              "    <path d=\"M0 0h24v24H0V0z\" fill=\"none\"/>\n",
              "    <path d=\"M18.56 5.44l.94 2.06.94-2.06 2.06-.94-2.06-.94-.94-2.06-.94 2.06-2.06.94zm-11 1L8.5 8.5l.94-2.06 2.06-.94-2.06-.94L8.5 2.5l-.94 2.06-2.06.94zm10 10l.94 2.06.94-2.06 2.06-.94-2.06-.94-.94-2.06-.94 2.06-2.06.94z\"/><path d=\"M17.41 7.96l-1.37-1.37c-.4-.4-.92-.59-1.43-.59-.52 0-1.04.2-1.43.59L10.3 9.45l-7.72 7.72c-.78.78-.78 2.05 0 2.83L4 21.41c.39.39.9.59 1.41.59.51 0 1.02-.2 1.41-.59l7.78-7.78 2.81-2.81c.8-.78.8-2.07 0-2.86zM5.41 20L4 18.59l7.72-7.72 1.47 1.35L5.41 20z\"/>\n",
              "  </svg>\n",
              "      </button>\n",
              "      \n",
              "  <style>\n",
              "    .colab-df-container {\n",
              "      display:flex;\n",
              "      flex-wrap:wrap;\n",
              "      gap: 12px;\n",
              "    }\n",
              "\n",
              "    .colab-df-convert {\n",
              "      background-color: #E8F0FE;\n",
              "      border: none;\n",
              "      border-radius: 50%;\n",
              "      cursor: pointer;\n",
              "      display: none;\n",
              "      fill: #1967D2;\n",
              "      height: 32px;\n",
              "      padding: 0 0 0 0;\n",
              "      width: 32px;\n",
              "    }\n",
              "\n",
              "    .colab-df-convert:hover {\n",
              "      background-color: #E2EBFA;\n",
              "      box-shadow: 0px 1px 2px rgba(60, 64, 67, 0.3), 0px 1px 3px 1px rgba(60, 64, 67, 0.15);\n",
              "      fill: #174EA6;\n",
              "    }\n",
              "\n",
              "    [theme=dark] .colab-df-convert {\n",
              "      background-color: #3B4455;\n",
              "      fill: #D2E3FC;\n",
              "    }\n",
              "\n",
              "    [theme=dark] .colab-df-convert:hover {\n",
              "      background-color: #434B5C;\n",
              "      box-shadow: 0px 1px 3px 1px rgba(0, 0, 0, 0.15);\n",
              "      filter: drop-shadow(0px 1px 2px rgba(0, 0, 0, 0.3));\n",
              "      fill: #FFFFFF;\n",
              "    }\n",
              "  </style>\n",
              "\n",
              "      <script>\n",
              "        const buttonEl =\n",
              "          document.querySelector('#df-b70b49c3-5932-4608-8537-2b897b726a66 button.colab-df-convert');\n",
              "        buttonEl.style.display =\n",
              "          google.colab.kernel.accessAllowed ? 'block' : 'none';\n",
              "\n",
              "        async function convertToInteractive(key) {\n",
              "          const element = document.querySelector('#df-b70b49c3-5932-4608-8537-2b897b726a66');\n",
              "          const dataTable =\n",
              "            await google.colab.kernel.invokeFunction('convertToInteractive',\n",
              "                                                     [key], {});\n",
              "          if (!dataTable) return;\n",
              "\n",
              "          const docLinkHtml = 'Like what you see? Visit the ' +\n",
              "            '<a target=\"_blank\" href=https://colab.research.google.com/notebooks/data_table.ipynb>data table notebook</a>'\n",
              "            + ' to learn more about interactive tables.';\n",
              "          element.innerHTML = '';\n",
              "          dataTable['output_type'] = 'display_data';\n",
              "          await google.colab.output.renderOutput(dataTable, element);\n",
              "          const docLink = document.createElement('div');\n",
              "          docLink.innerHTML = docLinkHtml;\n",
              "          element.appendChild(docLink);\n",
              "        }\n",
              "      </script>\n",
              "    </div>\n",
              "  </div>\n",
              "  "
            ]
          },
          "metadata": {},
          "execution_count": 4
        }
      ],
      "source": [
        "# read the data file\n",
        "# create a normalized version of the original data which is what will be used by the algorithm\n",
        "# Data file name variables\n",
        "trainData = pd.read_csv(basePath + \"house_price_dataset.csv\")\n",
        "\n",
        "preproc = preprocessing.normalize(trainData)\n",
        "norm_df = pd.DataFrame(preproc, columns=trainData.columns)\n",
        "norm_df.head()\n",
        "\n"
      ]
    },
    {
      "cell_type": "code",
      "execution_count": 5,
      "metadata": {
        "colab": {
          "base_uri": "https://localhost:8080/",
          "height": 267
        },
        "id": "eTU738yL20vQ",
        "outputId": "8ddd70f1-e680-4d7d-df52-4e04afb5ce46"
      },
      "outputs": [
        {
          "output_type": "execute_result",
          "data": {
            "text/plain": [
              "   X2 house age  X3 distance to the nearest station  \\\n",
              "0          32.0                            84.87882   \n",
              "1          19.5                           306.59470   \n",
              "2          13.3                           561.98450   \n",
              "3          13.3                           561.98450   \n",
              "4           5.0                           390.56840   \n",
              "\n",
              "   X4 number of convenience stores  X5 latitude  X6 longitude  \\\n",
              "0                               10     24.98298     121.54024   \n",
              "1                                9     24.98034     121.53951   \n",
              "2                                5     24.98746     121.54391   \n",
              "3                                5     24.98746     121.54391   \n",
              "4                                5     24.97937     121.54245   \n",
              "\n",
              "   Y house price of unit area  \n",
              "0                        37.9  \n",
              "1                        42.2  \n",
              "2                        47.3  \n",
              "3                        54.8  \n",
              "4                        43.1  "
            ],
            "text/html": [
              "\n",
              "  <div id=\"df-9ce5a42d-60f0-425a-bc6d-f4c2e4d1b451\">\n",
              "    <div class=\"colab-df-container\">\n",
              "      <div>\n",
              "<style scoped>\n",
              "    .dataframe tbody tr th:only-of-type {\n",
              "        vertical-align: middle;\n",
              "    }\n",
              "\n",
              "    .dataframe tbody tr th {\n",
              "        vertical-align: top;\n",
              "    }\n",
              "\n",
              "    .dataframe thead th {\n",
              "        text-align: right;\n",
              "    }\n",
              "</style>\n",
              "<table border=\"1\" class=\"dataframe\">\n",
              "  <thead>\n",
              "    <tr style=\"text-align: right;\">\n",
              "      <th></th>\n",
              "      <th>X2 house age</th>\n",
              "      <th>X3 distance to the nearest station</th>\n",
              "      <th>X4 number of convenience stores</th>\n",
              "      <th>X5 latitude</th>\n",
              "      <th>X6 longitude</th>\n",
              "      <th>Y house price of unit area</th>\n",
              "    </tr>\n",
              "  </thead>\n",
              "  <tbody>\n",
              "    <tr>\n",
              "      <th>0</th>\n",
              "      <td>32.0</td>\n",
              "      <td>84.87882</td>\n",
              "      <td>10</td>\n",
              "      <td>24.98298</td>\n",
              "      <td>121.54024</td>\n",
              "      <td>37.9</td>\n",
              "    </tr>\n",
              "    <tr>\n",
              "      <th>1</th>\n",
              "      <td>19.5</td>\n",
              "      <td>306.59470</td>\n",
              "      <td>9</td>\n",
              "      <td>24.98034</td>\n",
              "      <td>121.53951</td>\n",
              "      <td>42.2</td>\n",
              "    </tr>\n",
              "    <tr>\n",
              "      <th>2</th>\n",
              "      <td>13.3</td>\n",
              "      <td>561.98450</td>\n",
              "      <td>5</td>\n",
              "      <td>24.98746</td>\n",
              "      <td>121.54391</td>\n",
              "      <td>47.3</td>\n",
              "    </tr>\n",
              "    <tr>\n",
              "      <th>3</th>\n",
              "      <td>13.3</td>\n",
              "      <td>561.98450</td>\n",
              "      <td>5</td>\n",
              "      <td>24.98746</td>\n",
              "      <td>121.54391</td>\n",
              "      <td>54.8</td>\n",
              "    </tr>\n",
              "    <tr>\n",
              "      <th>4</th>\n",
              "      <td>5.0</td>\n",
              "      <td>390.56840</td>\n",
              "      <td>5</td>\n",
              "      <td>24.97937</td>\n",
              "      <td>121.54245</td>\n",
              "      <td>43.1</td>\n",
              "    </tr>\n",
              "  </tbody>\n",
              "</table>\n",
              "</div>\n",
              "      <button class=\"colab-df-convert\" onclick=\"convertToInteractive('df-9ce5a42d-60f0-425a-bc6d-f4c2e4d1b451')\"\n",
              "              title=\"Convert this dataframe to an interactive table.\"\n",
              "              style=\"display:none;\">\n",
              "        \n",
              "  <svg xmlns=\"http://www.w3.org/2000/svg\" height=\"24px\"viewBox=\"0 0 24 24\"\n",
              "       width=\"24px\">\n",
              "    <path d=\"M0 0h24v24H0V0z\" fill=\"none\"/>\n",
              "    <path d=\"M18.56 5.44l.94 2.06.94-2.06 2.06-.94-2.06-.94-.94-2.06-.94 2.06-2.06.94zm-11 1L8.5 8.5l.94-2.06 2.06-.94-2.06-.94L8.5 2.5l-.94 2.06-2.06.94zm10 10l.94 2.06.94-2.06 2.06-.94-2.06-.94-.94-2.06-.94 2.06-2.06.94z\"/><path d=\"M17.41 7.96l-1.37-1.37c-.4-.4-.92-.59-1.43-.59-.52 0-1.04.2-1.43.59L10.3 9.45l-7.72 7.72c-.78.78-.78 2.05 0 2.83L4 21.41c.39.39.9.59 1.41.59.51 0 1.02-.2 1.41-.59l7.78-7.78 2.81-2.81c.8-.78.8-2.07 0-2.86zM5.41 20L4 18.59l7.72-7.72 1.47 1.35L5.41 20z\"/>\n",
              "  </svg>\n",
              "      </button>\n",
              "      \n",
              "  <style>\n",
              "    .colab-df-container {\n",
              "      display:flex;\n",
              "      flex-wrap:wrap;\n",
              "      gap: 12px;\n",
              "    }\n",
              "\n",
              "    .colab-df-convert {\n",
              "      background-color: #E8F0FE;\n",
              "      border: none;\n",
              "      border-radius: 50%;\n",
              "      cursor: pointer;\n",
              "      display: none;\n",
              "      fill: #1967D2;\n",
              "      height: 32px;\n",
              "      padding: 0 0 0 0;\n",
              "      width: 32px;\n",
              "    }\n",
              "\n",
              "    .colab-df-convert:hover {\n",
              "      background-color: #E2EBFA;\n",
              "      box-shadow: 0px 1px 2px rgba(60, 64, 67, 0.3), 0px 1px 3px 1px rgba(60, 64, 67, 0.15);\n",
              "      fill: #174EA6;\n",
              "    }\n",
              "\n",
              "    [theme=dark] .colab-df-convert {\n",
              "      background-color: #3B4455;\n",
              "      fill: #D2E3FC;\n",
              "    }\n",
              "\n",
              "    [theme=dark] .colab-df-convert:hover {\n",
              "      background-color: #434B5C;\n",
              "      box-shadow: 0px 1px 3px 1px rgba(0, 0, 0, 0.15);\n",
              "      filter: drop-shadow(0px 1px 2px rgba(0, 0, 0, 0.3));\n",
              "      fill: #FFFFFF;\n",
              "    }\n",
              "  </style>\n",
              "\n",
              "      <script>\n",
              "        const buttonEl =\n",
              "          document.querySelector('#df-9ce5a42d-60f0-425a-bc6d-f4c2e4d1b451 button.colab-df-convert');\n",
              "        buttonEl.style.display =\n",
              "          google.colab.kernel.accessAllowed ? 'block' : 'none';\n",
              "\n",
              "        async function convertToInteractive(key) {\n",
              "          const element = document.querySelector('#df-9ce5a42d-60f0-425a-bc6d-f4c2e4d1b451');\n",
              "          const dataTable =\n",
              "            await google.colab.kernel.invokeFunction('convertToInteractive',\n",
              "                                                     [key], {});\n",
              "          if (!dataTable) return;\n",
              "\n",
              "          const docLinkHtml = 'Like what you see? Visit the ' +\n",
              "            '<a target=\"_blank\" href=https://colab.research.google.com/notebooks/data_table.ipynb>data table notebook</a>'\n",
              "            + ' to learn more about interactive tables.';\n",
              "          element.innerHTML = '';\n",
              "          dataTable['output_type'] = 'display_data';\n",
              "          await google.colab.output.renderOutput(dataTable, element);\n",
              "          const docLink = document.createElement('div');\n",
              "          docLink.innerHTML = docLinkHtml;\n",
              "          element.appendChild(docLink);\n",
              "        }\n",
              "      </script>\n",
              "    </div>\n",
              "  </div>\n",
              "  "
            ]
          },
          "metadata": {},
          "execution_count": 5
        }
      ],
      "source": [
        "trainData.head()"
      ]
    },
    {
      "cell_type": "code",
      "execution_count": 6,
      "metadata": {
        "colab": {
          "base_uri": "https://localhost:8080/"
        },
        "id": "c-G5z0As20vQ",
        "outputId": "64e2deb1-eeeb-461d-9b97-6e92876c66a0"
      },
      "outputs": [
        {
          "output_type": "execute_result",
          "data": {
            "text/plain": [
              "(412, 6)"
            ]
          },
          "metadata": {},
          "execution_count": 6
        }
      ],
      "source": [
        "trainData.shape"
      ]
    },
    {
      "cell_type": "code",
      "execution_count": 7,
      "metadata": {
        "id": "t-Fyljw1Mebg"
      },
      "outputs": [],
      "source": [
        "# Activation Function - implement Sigmoid\n",
        "# given 'h' compute and return 'z' based on the activation function implemented\n",
        "def activation_function(h):\n",
        "    return 1/(1+math.exp(-h))\n"
      ]
    },
    {
      "cell_type": "code",
      "execution_count": 8,
      "metadata": {
        "id": "_2KsnTwVM0Uq"
      },
      "outputs": [],
      "source": [
        "# Train the model using the given training dataset and the learning rate\n",
        "# return the \"weights\" learnt for the perceptron - include the weight assocaited with bias as the last entry\n",
        "def train(train_data, weights, learning_rate):\n",
        "    # if weights are []\n",
        "    if len(weights) == 0:\n",
        "        # initialize weights to 0 -- number of weights = number of variables + 1 for bias\n",
        "        weights = np.zeros(train_data.shape[1])\n",
        "    # go through each training data instance\n",
        "    for i in range(len(train_data)):\n",
        "        # get 'x' as one multi-variate data instance -- remember to append '1' at the end for the bias term\n",
        "        row = train_data.iloc[i].values.tolist()\n",
        "        x = row[:5]\n",
        "        x.append(1)\n",
        "        # get 'y' as the ground truth value, which is the last value in the given row\n",
        "        y = row[5]\n",
        "        # obtain h(x)\n",
        "        h = np.dot(x, weights)\n",
        "        # call the activation function with 'h' as parameter to obtain 'z'\n",
        "        z = activation_function(h)\n",
        "        # update all weights individually using learning_rate, (y-z), and the corresponding 'x'\n",
        "        for j in range(len(weights)):\n",
        "            weights[j] += learning_rate * (y-z) * x[j]\n",
        "    # return the final learnt weights\n",
        "    return weights\n"
      ]
    },
    {
      "cell_type": "code",
      "execution_count": 9,
      "metadata": {
        "id": "07yBacyN4_V1"
      },
      "outputs": [],
      "source": [
        "# Test the model (weights learnt) using the given test dataset\n",
        "# return the average error value\n",
        "def test(test_data, weights):\n",
        "    # go through each testing data instance\n",
        "    error = 0\n",
        "    \n",
        "    for i in range(len(test_data)):\n",
        "        # get 'x' as one multi-variate data instance -- remember to append '1' at the end for the bias term\n",
        "        row = test_data.iloc[i].values.tolist()\n",
        "        x = row[:5]\n",
        "        x.append(1)\n",
        "        # get 'y' as the ground truth value, which is the last value in the given row\n",
        "        y = row[5]\n",
        "        # obtain h(x)\n",
        "        h = np.dot(x, weights)\n",
        "        # call the activation function with 'h' as parameter to obtain 'z'\n",
        "        z = activation_function(h)\n",
        "        # compare 'z' with 'y' to calculate the absolute error (not least squared) for each data instance\n",
        "        error += abs(z-y)\n",
        "    # return the average error value for the given test dataset\n",
        "    return error/len(test_data)"
      ]
    },
    {
      "cell_type": "markdown",
      "metadata": {
        "id": "ZpV_UUjabZHh"
      },
      "source": [
        "**Determine the best learning rate and plot the graph for training error vs learning rate**"
      ]
    },
    {
      "cell_type": "code",
      "execution_count": 10,
      "metadata": {
        "id": "iWXYVqVo20vS"
      },
      "outputs": [],
      "source": [
        "train_data, test_data = train_test_split(trainData, train_size = 0.7)"
      ]
    },
    {
      "cell_type": "code",
      "execution_count": 11,
      "metadata": {
        "id": "GiMvNHFcqETZ",
        "scrolled": true,
        "colab": {
          "base_uri": "https://localhost:8080/",
          "height": 284
        },
        "outputId": "a4a2bd9b-55af-4bac-a192-8f10004c4777"
      },
      "outputs": [
        {
          "output_type": "execute_result",
          "data": {
            "text/plain": [
              "[<matplotlib.lines.Line2D at 0x7fda4bb69850>]"
            ]
          },
          "metadata": {},
          "execution_count": 11
        },
        {
          "output_type": "display_data",
          "data": {
            "text/plain": [
              "<Figure size 432x288 with 1 Axes>"
            ],
            "image/png": "[encoded data removed]"
          },
          "metadata": {
            "needs_background": "light"
          }
        }
      ],
      "source": [
        "# Go through all possible learning rates from 0 to 1 in increments of 0.01\n",
        "error = []\n",
        "learningRate =  [round(i,2) for i in np.arange(0.0, 1.0, 0.01)]\n",
        "# For each learning rate\n",
        "for i in learningRate:\n",
        "    weight = []    \n",
        "    # Call the above \"train\" function on the entire dataset to obtain the \"weights\"\n",
        "    weightss = train(train_data, weights = weight , learning_rate = i)\n",
        "    # Use the \"weights\" and call the \"test\" function to obtain the \"average_error\" for training\n",
        "    average_error = test(test_data, weightss)\n",
        "    # Save this \"error\" in a list of errors\n",
        "    error.append(average_error)\n",
        "\n",
        "# once the error values are obtained for all the learning rates, find the best learning rate (one with the least error)\n",
        "# also, plot the graph of learning rate (x-axis) and average error (y-axis)\n",
        "\n",
        "plt.plot(learningRate, error)\n",
        "\n"
      ]
    },
    {
      "cell_type": "code",
      "execution_count": 12,
      "metadata": {
        "colab": {
          "base_uri": "https://localhost:8080/",
          "height": 282
        },
        "id": "KMYWVyRf20vS",
        "outputId": "e5f12a51-5d9c-4fc6-c5ae-3726438c5ab2"
      },
      "outputs": [
        {
          "output_type": "execute_result",
          "data": {
            "text/plain": [
              "[<matplotlib.lines.Line2D at 0x7fda4b644490>]"
            ]
          },
          "metadata": {},
          "execution_count": 12
        },
        {
          "output_type": "display_data",
          "data": {
            "text/plain": [
              "<Figure size 432x288 with 1 Axes>"
            ],
            "image/png": "[encoded data removed]"
          },
          "metadata": {
            "needs_background": "light"
          }
        }
      ],
      "source": [
        "train_data, test_data = train_test_split(norm_df, train_size = 0.7)\n",
        "\n",
        "# Go through all possible learning rates from 0 to 1 in increments of 0.01\n",
        "error = []\n",
        "learningRate =  [round(i,2) for i in np.arange(0.0, 1.0, 0.01)]\n",
        "# For each learning rate\n",
        "for i in learningRate:\n",
        "    weight = []    \n",
        "    # Call the above \"train\" function on the entire dataset to obtain the \"weights\"\n",
        "    weightss = train(train_data, weights = weight , learning_rate = i)\n",
        "    # Use the \"weights\" and call the \"test\" function to obtain the \"average_error\" for training\n",
        "    average_error = test(test_data, weightss)\n",
        "    # Save this \"error\" in a list of errors\n",
        "    error.append(average_error)\n",
        "\n",
        "# once the error values are obtained for all the learning rates, find the best learning rate (one with the least error)\n",
        "# also, plot the graph of learning rate (x-axis) and average error (y-axis)\n",
        "\n",
        "plt.plot(learningRate, error)"
      ]
    },
    {
      "cell_type": "markdown",
      "metadata": {
        "id": "17W-yBb0fnLk"
      },
      "source": [
        "**Split the dataset into two parts (train and test). Perform 20 iterations on the dataset to obtain the average errors and see how it changes with each iteration.**"
      ]
    },
    {
      "cell_type": "code",
      "execution_count": 13,
      "metadata": {
        "id": "WwqFb6a2iyTY",
        "colab": {
          "base_uri": "https://localhost:8080/"
        },
        "outputId": "b4ad3706-4724-413f-f6dc-07d317f9be55"
      },
      "outputs": [
        {
          "output_type": "stream",
          "name": "stdout",
          "text": [
            "Average train error is:  0.03365132301871468\n",
            "Average test error is:  0.03641176950275053\n",
            "**************************************************\n",
            "\n",
            "Average train error is:  0.0317882528890495\n",
            "Average test error is:  0.03564795960999501\n",
            "**************************************************\n",
            "\n",
            "Average train error is:  0.03106424511412796\n",
            "Average test error is:  0.0352230853507106\n",
            "**************************************************\n",
            "\n",
            "Average train error is:  0.030446441850032716\n",
            "Average test error is:  0.03477990677813688\n",
            "**************************************************\n",
            "\n",
            "Average train error is:  0.02987748361128537\n",
            "Average test error is:  0.03436894541648348\n",
            "**************************************************\n",
            "\n",
            "Average train error is:  0.029350940910951362\n",
            "Average test error is:  0.03401591545484188\n",
            "**************************************************\n",
            "\n",
            "Average train error is:  0.028862885666727362\n",
            "Average test error is:  0.03367430362975475\n",
            "**************************************************\n",
            "\n",
            "Average train error is:  0.02841263605884844\n",
            "Average test error is:  0.033348135433782795\n",
            "**************************************************\n",
            "\n",
            "Average train error is:  0.027999673594856785\n",
            "Average test error is:  0.03303444426670566\n",
            "**************************************************\n",
            "\n",
            "Average train error is:  0.02761235645385303\n",
            "Average test error is:  0.03273066767028539\n",
            "**************************************************\n",
            "\n",
            "Average train error is:  0.027291477779216675\n",
            "Average test error is:  0.032436433547582987\n",
            "**************************************************\n",
            "\n",
            "Average train error is:  0.026987055678843644\n",
            "Average test error is:  0.03215137865449988\n",
            "**************************************************\n",
            "\n",
            "Average train error is:  0.026702587914807303\n",
            "Average test error is:  0.03187515163285812\n",
            "**************************************************\n",
            "\n",
            "Average train error is:  0.026441670130748374\n",
            "Average test error is:  0.0316074149272374\n",
            "**************************************************\n",
            "\n",
            "Average train error is:  0.02619807264224957\n",
            "Average test error is:  0.03134784591318032\n",
            "**************************************************\n",
            "\n",
            "Average train error is:  0.025968114554310213\n",
            "Average test error is:  0.031096137419440124\n",
            "**************************************************\n",
            "\n",
            "Average train error is:  0.025771471839846558\n",
            "Average test error is:  0.030851997788514475\n",
            "**************************************************\n",
            "\n",
            "Average train error is:  0.025610277693541655\n",
            "Average test error is:  0.03061515059516882\n",
            "**************************************************\n",
            "\n",
            "Average train error is:  0.025461900599512272\n",
            "Average test error is:  0.030430013942947302\n",
            "**************************************************\n",
            "\n",
            "Average train error is:  0.02532199069600309\n",
            "Average test error is:  0.03028118674830454\n",
            "**************************************************\n",
            "\n"
          ]
        }
      ],
      "source": [
        "# Split the entire dataset randomly into two different parts --\n",
        "  # \"train_data\" - 70% of the entire data\n",
        "  # \"test_data\" - remaining 30% of the data\n",
        "train_data, test_data = train_test_split(norm_df, train_size = 0.7)\n",
        "# Normalize both of them\n",
        "\n",
        "# Use the \"best_learning_rate\" found above\n",
        "best_learning_rate = 1.0\n",
        "# Start the weights = []\n",
        "weights = []\n",
        "avg_train_error = []\n",
        "avg_test_error = []\n",
        "iterations = [i for i in range(0, 20, 1)]\n",
        "# Perform 20 iterations on the entire dataset and for each iteartion\n",
        "for _ in range(20):\n",
        "    # Call the above \"train\" function on the \"train_data\" to obtain the updated \"weights\"\n",
        "    weights = train(train_data, weights = weights , learning_rate = best_learning_rate)\n",
        "    # Use the \"weights\" and call the \"test\" function to obtain the \"average_training_error\" for the \"train_data\"\n",
        "    average_training_error = test(train_data, weights)\n",
        "    avg_train_error.append(average_training_error)\n",
        "    # Use the \"weights\" and call the \"test\" function to obtain the \"average_testing_error\" for the \"test_data\"\n",
        "    average_testing_error =  test(test_data, weights)\n",
        "    avg_test_error.append(average_testing_error)\n",
        "    # Print both the average errors for the given iteration number\n",
        "    print('Average train error is: ',average_training_error)\n",
        "    print('Average test error is: ', average_testing_error)\n",
        "    \n",
        "    print(\"*\" * 50)\n",
        "    print()"
      ]
    },
    {
      "cell_type": "markdown",
      "metadata": {
        "id": "lYxmgcnes9cS"
      },
      "source": [
        "## Extra Credit - Accuracy Plots\n",
        "\n",
        "(05 points)\n",
        "\n",
        "Use the above accuracy results on the training and testing data and write code to plot the graphs as mentioned in the code block below.\n",
        "\n"
      ]
    },
    {
      "cell_type": "code",
      "execution_count": 14,
      "metadata": {
        "id": "aR5C7libnWZd",
        "colab": {
          "base_uri": "https://localhost:8080/",
          "height": 573
        },
        "outputId": "5255f59f-ba38-4147-adc1-4a193d57e617"
      },
      "outputs": [
        {
          "output_type": "display_data",
          "data": {
            "text/plain": [
              "<Figure size 432x288 with 1 Axes>"
            ],
            "image/png": "[encoded data removed]"
          },
          "metadata": {
            "needs_background": "light"
          }
        },
        {
          "output_type": "display_data",
          "data": {
            "text/plain": [
              "<Figure size 432x288 with 1 Axes>"
            ],
            "image/png": "[encoded data removed]"
          },
          "metadata": {
            "needs_background": "light"
          }
        }
      ],
      "source": [
        "# Save the above calculated error values \"average_training_error\" and \"average_testing_error\" in two different lists\n",
        "# For each of the two average errors, plot a graph for iteration-number (x-axis) and average error (y-axis)\n",
        "# avg_train_error\n",
        "# avg_test_error\n",
        "# iterations\n",
        "\n",
        "len(avg_train_error), len(avg_test_error), len(iterations)\n",
        "\n",
        "plt.plot(iterations, avg_train_error, label='Training Error')\n",
        "plt.xlabel('Number of iteration')\n",
        "plt.ylabel('Average Error')\n",
        "plt.title('Train Data')\n",
        "plt.show()\n",
        "\n",
        "\n",
        "plt.plot(iterations, avg_train_error, label='Testing Error')\n",
        "plt.xlabel('Number of iteration')\n",
        "plt.ylabel('Average Error')\n",
        "plt.title('Test Data')\n",
        "plt.show()\n"
      ]
    },
    {
      "cell_type": "markdown",
      "metadata": {
        "id": "onnqJYTEq0l3"
      },
      "source": [
        "# ID3 Decision Tree\n",
        "(90 points)\n",
        "\n",
        "In this section, you will implement the ID3 Decision Tree algorithm. The training is for a **binary classification** task i.e. each instance will have a class value of 0 or 1. Also, assume that there are **no missing values** in the train or test data. \n",
        "\n",
        "Following are the data files that will be provided to you for the ID3 algorithm implementation.\n",
        "\n",
        "*   Training file - 'id3-train.dat'\n",
        "*   Testing file - 'id3-test.dat'\n",
        "\n",
        "*Both these files should be present in the same folder as this code file.* In these files, only non-space characters are relevant. The first line contains the attribute names. All the other lines are example instances to be used for the algorithm. Each column holds values of the attributes, whereas the last column holds the class label for that instance.\n",
        "\n",
        "In a decision tree, if you reach a leaf node but still have examples that belong to different classes, then choose the most frequent class (among the instances at the leaf node). If you reach a leaf node in the decision tree and have no examples left or the examples are equally split among multiple classes, then choose the class that is most frequent in the entire training set. You do not need to implement pruning. Also, don’t forget to use logarithm base 2 when computing entropy and set (0 log 0) to 0.\n",
        "\n",
        "Write the code in the following code block, structure is provided. Instructions on the steps to follow are provided as comments. The code should output the following 3 things:\n",
        "\n",
        "*   Print the Decision Tree created, in the following example format:\n",
        "\n",
        "    ```\n",
        "    attr1 = 0 :\n",
        "        attr2 = 0 :\n",
        "            attr3 = 0 : 1   --   15\n",
        "            attr3 = 1 : 0   --   7\n",
        "        attr3 = 1 :\n",
        "            attr4 = 0 : 0   --   12\n",
        "            attr4 = 1 : 1   --   6\n",
        "    attr1 = 1 :\n",
        "        attr2 = 1 : 1   --   9\n",
        "\n",
        "    ```\n",
        "\n",
        "*   Accuracy on the Training data = x %\n",
        "*   Accuracy on the Test data = x %\n",
        "\n",
        "\n",
        "\n",
        "\n"
      ]
    },
    {
      "cell_type": "code",
      "execution_count": 18,
      "metadata": {
        "id": "bw2NlBsO20vU"
      },
      "outputs": [],
      "source": [
        "train = \"/content/drive/My Drive/Colab Notebooks/Artificial Intelligence/Data/\"\"id3-train.dat\"\n",
        "test = \"/content/drive/My Drive/Colab Notebooks/Artificial Intelligence/Data/\"\"id3-test.dat\"\n",
        "\n",
        "# Read the training and testing data files\n",
        "train_data = pd.read_csv(train, delim_whitespace=True)\n",
        "test_data = pd.read_csv(test, delim_whitespace=True)"
      ]
    },
    {
      "cell_type": "code",
      "execution_count": 19,
      "metadata": {
        "colab": {
          "base_uri": "https://localhost:8080/",
          "height": 206
        },
        "id": "-rmpYHHm20vU",
        "outputId": "ea648bb4-1b8a-47f8-9bd5-0259983f60e4"
      },
      "outputs": [
        {
          "output_type": "execute_result",
          "data": {
            "text/plain": [
              "   attr1  attr2  attr3  attr4  attr5  attr6  class\n",
              "0      1      1      0      0      0      0      0\n",
              "1      0      0      1      1      0      1      0\n",
              "2      0      1      0      1      1      0      0\n",
              "3      0      0      1      0      0      1      1\n",
              "4      0      1      0      0      0      0      0"
            ],
            "text/html": [
              "\n",
              "  <div id=\"df-e3e1a168-a536-4672-b5d3-c56d386a540f\">\n",
              "    <div class=\"colab-df-container\">\n",
              "      <div>\n",
              "<style scoped>\n",
              "    .dataframe tbody tr th:only-of-type {\n",
              "        vertical-align: middle;\n",
              "    }\n",
              "\n",
              "    .dataframe tbody tr th {\n",
              "        vertical-align: top;\n",
              "    }\n",
              "\n",
              "    .dataframe thead th {\n",
              "        text-align: right;\n",
              "    }\n",
              "</style>\n",
              "<table border=\"1\" class=\"dataframe\">\n",
              "  <thead>\n",
              "    <tr style=\"text-align: right;\">\n",
              "      <th></th>\n",
              "      <th>attr1</th>\n",
              "      <th>attr2</th>\n",
              "      <th>attr3</th>\n",
              "      <th>attr4</th>\n",
              "      <th>attr5</th>\n",
              "      <th>attr6</th>\n",
              "      <th>class</th>\n",
              "    </tr>\n",
              "  </thead>\n",
              "  <tbody>\n",
              "    <tr>\n",
              "      <th>0</th>\n",
              "      <td>1</td>\n",
              "      <td>1</td>\n",
              "      <td>0</td>\n",
              "      <td>0</td>\n",
              "      <td>0</td>\n",
              "      <td>0</td>\n",
              "      <td>0</td>\n",
              "    </tr>\n",
              "    <tr>\n",
              "      <th>1</th>\n",
              "      <td>0</td>\n",
              "      <td>0</td>\n",
              "      <td>1</td>\n",
              "      <td>1</td>\n",
              "      <td>0</td>\n",
              "      <td>1</td>\n",
              "      <td>0</td>\n",
              "    </tr>\n",
              "    <tr>\n",
              "      <th>2</th>\n",
              "      <td>0</td>\n",
              "      <td>1</td>\n",
              "      <td>0</td>\n",
              "      <td>1</td>\n",
              "      <td>1</td>\n",
              "      <td>0</td>\n",
              "      <td>0</td>\n",
              "    </tr>\n",
              "    <tr>\n",
              "      <th>3</th>\n",
              "      <td>0</td>\n",
              "      <td>0</td>\n",
              "      <td>1</td>\n",
              "      <td>0</td>\n",
              "      <td>0</td>\n",
              "      <td>1</td>\n",
              "      <td>1</td>\n",
              "    </tr>\n",
              "    <tr>\n",
              "      <th>4</th>\n",
              "      <td>0</td>\n",
              "      <td>1</td>\n",
              "      <td>0</td>\n",
              "      <td>0</td>\n",
              "      <td>0</td>\n",
              "      <td>0</td>\n",
              "      <td>0</td>\n",
              "    </tr>\n",
              "  </tbody>\n",
              "</table>\n",
              "</div>\n",
              "      <button class=\"colab-df-convert\" onclick=\"convertToInteractive('df-e3e1a168-a536-4672-b5d3-c56d386a540f')\"\n",
              "              title=\"Convert this dataframe to an interactive table.\"\n",
              "              style=\"display:none;\">\n",
              "        \n",
              "  <svg xmlns=\"http://www.w3.org/2000/svg\" height=\"24px\"viewBox=\"0 0 24 24\"\n",
              "       width=\"24px\">\n",
              "    <path d=\"M0 0h24v24H0V0z\" fill=\"none\"/>\n",
              "    <path d=\"M18.56 5.44l.94 2.06.94-2.06 2.06-.94-2.06-.94-.94-2.06-.94 2.06-2.06.94zm-11 1L8.5 8.5l.94-2.06 2.06-.94-2.06-.94L8.5 2.5l-.94 2.06-2.06.94zm10 10l.94 2.06.94-2.06 2.06-.94-2.06-.94-.94-2.06-.94 2.06-2.06.94z\"/><path d=\"M17.41 7.96l-1.37-1.37c-.4-.4-.92-.59-1.43-.59-.52 0-1.04.2-1.43.59L10.3 9.45l-7.72 7.72c-.78.78-.78 2.05 0 2.83L4 21.41c.39.39.9.59 1.41.59.51 0 1.02-.2 1.41-.59l7.78-7.78 2.81-2.81c.8-.78.8-2.07 0-2.86zM5.41 20L4 18.59l7.72-7.72 1.47 1.35L5.41 20z\"/>\n",
              "  </svg>\n",
              "      </button>\n",
              "      \n",
              "  <style>\n",
              "    .colab-df-container {\n",
              "      display:flex;\n",
              "      flex-wrap:wrap;\n",
              "      gap: 12px;\n",
              "    }\n",
              "\n",
              "    .colab-df-convert {\n",
              "      background-color: #E8F0FE;\n",
              "      border: none;\n",
              "      border-radius: 50%;\n",
              "      cursor: pointer;\n",
              "      display: none;\n",
              "      fill: #1967D2;\n",
              "      height: 32px;\n",
              "      padding: 0 0 0 0;\n",
              "      width: 32px;\n",
              "    }\n",
              "\n",
              "    .colab-df-convert:hover {\n",
              "      background-color: #E2EBFA;\n",
              "      box-shadow: 0px 1px 2px rgba(60, 64, 67, 0.3), 0px 1px 3px 1px rgba(60, 64, 67, 0.15);\n",
              "      fill: #174EA6;\n",
              "    }\n",
              "\n",
              "    [theme=dark] .colab-df-convert {\n",
              "      background-color: #3B4455;\n",
              "      fill: #D2E3FC;\n",
              "    }\n",
              "\n",
              "    [theme=dark] .colab-df-convert:hover {\n",
              "      background-color: #434B5C;\n",
              "      box-shadow: 0px 1px 3px 1px rgba(0, 0, 0, 0.15);\n",
              "      filter: drop-shadow(0px 1px 2px rgba(0, 0, 0, 0.3));\n",
              "      fill: #FFFFFF;\n",
              "    }\n",
              "  </style>\n",
              "\n",
              "      <script>\n",
              "        const buttonEl =\n",
              "          document.querySelector('#df-e3e1a168-a536-4672-b5d3-c56d386a540f button.colab-df-convert');\n",
              "        buttonEl.style.display =\n",
              "          google.colab.kernel.accessAllowed ? 'block' : 'none';\n",
              "\n",
              "        async function convertToInteractive(key) {\n",
              "          const element = document.querySelector('#df-e3e1a168-a536-4672-b5d3-c56d386a540f');\n",
              "          const dataTable =\n",
              "            await google.colab.kernel.invokeFunction('convertToInteractive',\n",
              "                                                     [key], {});\n",
              "          if (!dataTable) return;\n",
              "\n",
              "          const docLinkHtml = 'Like what you see? Visit the ' +\n",
              "            '<a target=\"_blank\" href=https://colab.research.google.com/notebooks/data_table.ipynb>data table notebook</a>'\n",
              "            + ' to learn more about interactive tables.';\n",
              "          element.innerHTML = '';\n",
              "          dataTable['output_type'] = 'display_data';\n",
              "          await google.colab.output.renderOutput(dataTable, element);\n",
              "          const docLink = document.createElement('div');\n",
              "          docLink.innerHTML = docLinkHtml;\n",
              "          element.appendChild(docLink);\n",
              "        }\n",
              "      </script>\n",
              "    </div>\n",
              "  </div>\n",
              "  "
            ]
          },
          "metadata": {},
          "execution_count": 19
        }
      ],
      "source": [
        "train_data.head()"
      ]
    },
    {
      "cell_type": "code",
      "execution_count": 20,
      "metadata": {
        "id": "Gkj1Msif20vU"
      },
      "outputs": [],
      "source": [
        "# Tree Node\n",
        "class Node:\n",
        "    def __init__(self, parent=None):\n",
        "        # which attr we need to split on\n",
        "        self.attr = None\n",
        "        # children of this node\n",
        "        self.children = []\n",
        "        # corresponding class value of features\n",
        "        self.label = None\n",
        "        # value of parent's attribute\n",
        "        self.splitVal = None\n",
        "        # the number of instances of the current feature with the split val specified by the parent\n",
        "        self.count = None\n",
        "        # the parent node\n",
        "        self.parent = None"
      ]
    },
    {
      "cell_type": "code",
      "execution_count": 21,
      "metadata": {
        "id": "QpE4KJVv20vU"
      },
      "outputs": [],
      "source": [
        "# find total entropy for the data set\n",
        "def total_entropy(data, data_label, classes):\n",
        "    num_of_instances = data.shape[0]\n",
        "    entropy = 0\n",
        "\n",
        "    for c in classes:\n",
        "        class_count = data[data[data_label] == c].shape[0]\n",
        "        class_entropy = - (class_count / num_of_instances) * np.log2(class_count / num_of_instances)\n",
        "        entropy += class_entropy\n",
        "    return entropy"
      ]
    },
    {
      "cell_type": "code",
      "execution_count": 22,
      "metadata": {
        "id": "1TAtsRsZ20vV"
      },
      "outputs": [],
      "source": [
        "# find the entropy for each attribute\n",
        "def entropyAttribute(data, data_label, classes):\n",
        "    count = data.shape[0]\n",
        "    entropy = 0\n",
        "\n",
        "    for c in classes:\n",
        "        label_class_count = data[data[data_label] == c].shape[0]\n",
        "        entropy_class = 0\n",
        "        if label_class_count != 0:\n",
        "            probability_class = label_class_count / count\n",
        "            entropy_class = - probability_class * np.log2(probability_class)\n",
        "        entropy += entropy_class\n",
        "    return entropy"
      ]
    },
    {
      "cell_type": "code",
      "execution_count": 23,
      "metadata": {
        "id": "n3kuZD-c20vV"
      },
      "outputs": [],
      "source": [
        "#  finds the info gain for a specific attribute\n",
        "def find_info_gain(feature_name, data, data_label, classes):\n",
        "    features = data[feature_name].unique()\n",
        "    num_of_instances = data.shape[0]\n",
        "    feature_info = 0\n",
        "    # loop through each feature and calculate its info gain\n",
        "    for feature in features:\n",
        "        feature_data = data[data[feature_name] == feature]\n",
        "        num_of_feature_instances = feature_data.shape[0]\n",
        "        current_entropy = entropyAttribute(feature_data, data_label, classes)\n",
        "        feature_probability = num_of_feature_instances / num_of_instances\n",
        "        feature_info += feature_probability * current_entropy\n",
        "    # return the value returned by find_entropy - feature_info\n",
        "    return total_entropy(data, data_label, classes) - feature_info"
      ]
    },
    {
      "cell_type": "code",
      "execution_count": 24,
      "metadata": {
        "id": "47eEpixf20vV"
      },
      "outputs": [],
      "source": [
        "# find max gain by calling and comparing each attributes info gain\n",
        "def find_max_info_gain(data, label, classes, features):\n",
        "    max_value = -1\n",
        "    maxFeature = None\n",
        "    for feature in features:\n",
        "        current_feature_gain = find_info_gain(feature, data, label, classes)\n",
        "        if max_value < current_feature_gain:\n",
        "            max_value = current_feature_gain\n",
        "            maxFeature = feature\n",
        "    return maxFeature"
      ]
    },
    {
      "cell_type": "code",
      "execution_count": 25,
      "metadata": {
        "id": "6OfCgXbL20vV"
      },
      "outputs": [],
      "source": [
        "# get the majority feature label\n",
        "def majority_feature_label(data):\n",
        "    # get the class labels\n",
        "    labels = data['class'].unique()\n",
        "    # initialize the majority label to None\n",
        "    majority_label = labels[0]\n",
        "    major_count = 0\n",
        "    # go through each class label\n",
        "    for label in labels:\n",
        "        # get the count of the class label\n",
        "        count = len(data[data['class'] == label])\n",
        "        # if the count is greater than the majority label update the majority label\n",
        "        if count > major_count:\n",
        "            majority_label = label\n",
        "            major_count = count\n",
        "    # return the majority label\n",
        "    return majority_label\n"
      ]
    },
    {
      "cell_type": "code",
      "execution_count": 26,
      "metadata": {
        "id": "buwmGmnF20vV"
      },
      "outputs": [],
      "source": [
        "# prediction for root instance in data set\n",
        "def predict_root_instance(root, data): #more \n",
        "    node = None\n",
        "    if root.label != None:\n",
        "        return root.label\n",
        "    split_val = data[root.attr]\n",
        "    for child in root.children:\n",
        "        if child.splitVal == split_val:\n",
        "            node = child\n",
        "            break\n",
        "    # if node is empty\n",
        "    if node is None:\n",
        "        node = root.children[0]\n",
        "    return predict_root_instance(node, data)"
      ]
    },
    {
      "cell_type": "code",
      "execution_count": 27,
      "metadata": {
        "id": "DcPbnI2z20vV"
      },
      "outputs": [],
      "source": [
        "# finds the accuracy for each data set\n",
        "def data_accuracy(root, data):\n",
        "    labels = data['class'].unique()\n",
        "    correct = 0\n",
        "    for i, row in data.iterrows():\n",
        "        label = row['class']\n",
        "        result = predict_root_instance(root.children[0], row)\n",
        "        result2 = predict_root_instance(root.children[1], row)\n",
        "        if label in [result, result2]:\n",
        "            correct += 1\n",
        "    accuracy = correct / len(data)\n",
        "    return accuracy"
      ]
    },
    {
      "cell_type": "code",
      "execution_count": 29,
      "metadata": {
        "id": "l-eXgnIi20vV"
      },
      "outputs": [],
      "source": [
        "# prints the decision tree\n",
        "def print_decision_tree(root, level=0):\n",
        "    tab = '\\t' * level\n",
        "    if root.attr is None:\n",
        "        for child in root.children:\n",
        "            print_tree(child, level + 1)\n",
        "    elif not root.children:\n",
        "        print(tab, root.attr, \"=\", root.splitVal, \":\", root.label, \"--\", root.count)\n",
        "    else:\n",
        "        print(tab, root.attr, \"=\", root.splitVal, \":\")\n",
        "        for child in root.children:\n",
        "            print_tree(child, level + 1)"
      ]
    },
    {
      "cell_type": "code",
      "execution_count": 30,
      "metadata": {
        "id": "TFn9NH4VmtP3"
      },
      "outputs": [],
      "source": [
        "# Pseudocode for the ID3 algorithm. Use this to create function(s).\n",
        "# def ID3(data, root, attributesRemaining):\n",
        "def ID3(data, root, attributesRemaining):\n",
        "    # If you reach a leaf node in the decision tree and have no examples left or the examples are equally split among multiple classes\n",
        "    if len(data) == 0:\n",
        "        # Choose and assign the class that is most frequent in the entire training set and return the updated tree\n",
        "        root.label = majority_feature_label(data)\n",
        "    # If all the instances have only one class label\n",
        "    label = data['class'].unique()\n",
        "    if len(label) == 1:\n",
        "        # Make this as the leaf node and use the label as the class value of the node and return the updated tree\n",
        "        root.label  = label[0]\n",
        "        return\n",
        "    # If you reached a leaf node but still have examples that belong to different classes (there are no remaining attributes to be split)\n",
        "    if len(attributesRemaining) == 0:\n",
        "        # Assign the most frequent class among the instances at the leaf node and return the updated tree\n",
        "        root.label = majority_feature_label(data)\n",
        "        return\n",
        "    # Find the best attribute to split by calculating the maximum information gain from the attributes remaining by calculating the entropy\n",
        "    data_label = data.columns[-1]\n",
        "    classes = label\n",
        "    max_attribute = find_max_info_gain(data, data_label, classes, attributesRemaining)\n",
        "    attributesRemaining.remove(max_attribute)\n",
        "    # Split the tree using the best attribute and recursively call the ID3 function using DFS to fill the sub-tree\n",
        "    maxAttrValues = data[max_attribute].unique().tolist()\n",
        "    maxAttrValues.sort()\n",
        "    # return the root as the tree\n",
        "    \n",
        "    for value in maxAttrValues:\n",
        "        subtable = data[data[max_attribute] == value]\n",
        "        child_node = Node(parent=root)\n",
        "        child_node.attr = max_attribute\n",
        "        child_node.splitVal = value\n",
        "        child_node.count = len(subtable)\n",
        "        root.children.append(child_node)\n",
        "        attributes_copy = copy.deepcopy(attributesRemaining)\n",
        "        ID3(subtable, child_node, attributes_copy)\n",
        "        # return the root as the tree\n",
        "    return\n"
      ]
    },
    {
      "cell_type": "code",
      "execution_count": 31,
      "metadata": {
        "colab": {
          "base_uri": "https://localhost:8080/"
        },
        "id": "xKzJwLs320vW",
        "outputId": "462ab4f2-2bb1-489d-da64-08b4b9dbb46c"
      },
      "outputs": [
        {
          "output_type": "stream",
          "name": "stdout",
          "text": [
            "\n",
            "Accuracy on the Train data ==  0.80625\n",
            "Accuracy on the Test data ==  0.7733990147783252\n"
          ]
        }
      ],
      "source": [
        "# Create the decision tree by implementing the ID3 algorithm. Pseudocode provided above.\n",
        "# Print the tree in the example format mentioned.\n",
        "\n",
        "# Use the above created tree to predict the training data and print the accuracy as \"Accuracy on the Training data = x %\"\n",
        "    # For each training instance, predict the output label\n",
        "    \n",
        "    # Compare it with the ground truth class label and calculate the accuracy accordingly\n",
        "# Use the above created tree to predict the testing data and print the accuracy as \"Accuracy on the Test data = x %\"\n",
        "    # For each testing instance, predict the output label\n",
        "    # Compare it with the ground truth class label and calculate the accuracy accordingly\n",
        "\n",
        "\n",
        "train_attributes = list(train_data)[0:-1]\n",
        "test_attributes = list(test_data)[0:-1]\n",
        "\n",
        "trainRoot = Node()\n",
        "ID3(train_data, trainRoot, train_attributes)\n",
        "\n",
        "\n",
        "testRoot = Node()\n",
        "ID3(train_data, testRoot, test_attributes)\n",
        "\n",
        "\n",
        "# gets the accuracy for the training and test data\n",
        "train_accuracy = data_accuracy(trainRoot, train_data)\n",
        "test_accuracy = data_accuracy(testRoot, test_data)\n",
        "print()\n",
        "print(\"Accuracy on the Train data == \", train_accuracy)\n",
        "print(\"Accuracy on the Test data == \", test_accuracy)"
      ]
    },
    {
      "cell_type": "markdown",
      "metadata": {
        "id": "YvYowzzA4vcd"
      },
      "source": [
        "## Extra Credit - Learning Curve\n",
        "\n",
        "(05 points)\n",
        "\n",
        "Instead of taking the entire training data (all 800 instances), loop through to select 'x' instances in the increments of 40 (i.e. 40, 80, 120, and so on). For each selected number 'x', randomly pick the example instances from the training data and call the ID3 function to create the decision tree. Calculate the accuracy of the created ID3 tree on the Test data file. Plot the corresponding graph, aka Learning Curve.\n"
      ]
    },
    {
      "cell_type": "code",
      "execution_count": 32,
      "metadata": {
        "id": "FYSK99zp5a7H"
      },
      "outputs": [],
      "source": [
        "# Loop through to select the number of instances 'x' in increments of 40\n",
        "x_instance = [i for i in range(40, 800, 40)]\n",
        "\n",
        "test_acc = []\n",
        "# For each 'x',\n",
        "for x in x_instance:\n",
        "    # Randomly select 'x' instances\n",
        "    \n",
        "    df = train_data.sample(n= x)\n",
        "    \n",
        "    \n",
        "    train_attributes = list(df)[0:-1]\n",
        "    test_attributes = list(test_data)[0:-1]\n",
        "    # Create the ID3 decision tree using those instances\n",
        "    trainRoot = Node()\n",
        "    ID3(df, trainRoot, train_attributes)\n",
        "    # Calculate the accuracy of the ID3 tree created on the Test data\n",
        "    testRoot = Node()\n",
        "    ID3(df, testRoot, test_attributes)\n",
        "    \n",
        "    #train_accuracy = data_accuracy(trainRoot, df)\n",
        "    test_accuracy = data_accuracy(testRoot, test_data)\n",
        "    test_acc.append(test_accuracy)\n",
        "\n",
        "    \n"
      ]
    },
    {
      "cell_type": "code",
      "execution_count": 33,
      "metadata": {
        "colab": {
          "base_uri": "https://localhost:8080/",
          "height": 295
        },
        "id": "1RNmqOql20vX",
        "outputId": "327f6932-31d9-4c96-c1e7-c3681dd15de6"
      },
      "outputs": [
        {
          "output_type": "display_data",
          "data": {
            "text/plain": [
              "<Figure size 432x288 with 1 Axes>"
            ],
            "image/png": "[encoded data removed]"
          },
          "metadata": {
            "needs_background": "light"
          }
        }
      ],
      "source": [
        "# Plot the learning curve using the accuracy values\n",
        "    # X-axis will be the number of training instances used for creating the tree\n",
        "    # Y-axis will be the accuracy in % on the Test data\n",
        "    \n",
        "plt.plot(x_instance, test_acc, label='test accurarcy')\n",
        "plt.xlabel('Number of taining Instance')\n",
        "plt.ylabel('test Accurarcy')\n",
        "plt.title('Learning Curve')\n",
        "plt.show()"
      ]
    },
    {
      "cell_type": "markdown",
      "metadata": {
        "id": "YJSFgNBQrhQU"
      },
      "source": [
        "# Submission Instructions\n",
        "\n",
        "1.   Complete all tasks above - **File MUST contain the output for ALL cells**\n",
        "2.   Export this notebook as .ipynb\n",
        "      (File > Download as ipynb)\n",
        "3.   Upload the .ipynb file on Blackboard"
      ]
    },
    {
      "cell_type": "markdown",
      "metadata": {
        "id": "0lGvLE9H6ptL"
      },
      "source": [
        "## Rubric\n",
        "\n",
        "*   (60 points) Gradient Descent Algorithm\n",
        "*   (05 points) Extra Credit - GD Accuracy Plots\n",
        "*   (90 points) ID3 Algorithm\n",
        "*   (05 points) Extra Credit - ID3 Learning Curve\n",
        "\n",
        "\n",
        "\n"
      ]
    }
  ],
  "metadata": {
    "colab": {
      "collapsed_sections": [],
      "provenance": []
    },
    "kernelspec": {
      "display_name": "Python 3",
      "language": "python",
      "name": "python3"
    },
    "language_info": {
      "codemirror_mode": {
        "name": "ipython",
        "version": 3
      },
      "file_extension": ".py",
      "mimetype": "text/x-python",
      "name": "python",
      "nbconvert_exporter": "python",
      "pygments_lexer": "ipython3",
      "version": "3.7.3"
    }
  },
  "nbformat": 4,
  "nbformat_minor": 0
}